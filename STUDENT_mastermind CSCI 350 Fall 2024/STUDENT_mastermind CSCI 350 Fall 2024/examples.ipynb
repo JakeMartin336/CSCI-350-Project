{
 "cells": [
  {
   "cell_type": "markdown",
   "metadata": {},
   "source": [
    "# Mastermind Examples"
   ]
  },
  {
   "cell_type": "markdown",
   "metadata": {},
   "source": [
    "This notebook contains examples of using the various classes and functions for the Mastermind project."
   ]
  },
  {
   "cell_type": "code",
   "execution_count": 1,
   "metadata": {},
   "outputs": [],
   "source": [
    "from mastermind import *\n",
    "from scsa import *\n",
    "from player import *\n",
    "import time"
   ]
  },
  {
   "cell_type": "markdown",
   "metadata": {},
   "source": [
    "## Playing a Tournament"
   ]
  },
  {
   "cell_type": "code",
   "execution_count": null,
   "metadata": {},
   "outputs": [],
   "source": [
    "board_length = 4  # Number of pegs\n",
    "num_colors = 6  # Number of colors\n",
    "colors = [chr(i) for i in range(65, 91)][\n",
    "    :num_colors\n",
    "]  # Retrieves first num_colors from list of all colors\n",
    "player = RandomFolks()\n",
    "scsa = InsertColors()\n",
    "num_rounds = 100\n",
    "\n",
    "mastermind = Mastermind(board_length, colors)\n",
    "\n",
    "mastermind.play_tournament(player, scsa, num_rounds)"
   ]
  },
  {
   "cell_type": "markdown",
   "metadata": {},
   "source": [
    "## Playing a Single Round"
   ]
  },
  {
   "cell_type": "markdown",
   "metadata": {},
   "source": [
    "### Using the Play Tournament Function"
   ]
  },
  {
   "cell_type": "code",
   "execution_count": null,
   "metadata": {},
   "outputs": [],
   "source": [
    "board_length = 4\n",
    "num_colors = 6\n",
    "colors = [chr(i) for i in range(65, 91)][\n",
    "    :num_colors\n",
    "]  # Retrieves first num_colors from list of all colors\n",
    "player = Boring()\n",
    "scsa = InsertColors()\n",
    "num_rounds = 1\n",
    "\n",
    "mastermind = Mastermind(board_length, colors)\n",
    "mastermind.play_tournament(player, scsa, num_rounds)"
   ]
  },
  {
   "cell_type": "markdown",
   "metadata": {},
   "source": [
    "### Using the Round Class"
   ]
  },
  {
   "cell_type": "code",
   "execution_count": null,
   "metadata": {},
   "outputs": [],
   "source": [
    "board_length = 4\n",
    "num_colors = 6\n",
    "colors = [chr(i) for i in range(65, 91)][\n",
    "    :num_colors\n",
    "]  # Retrieves first num_colors from list of all colors\n",
    "player = RandomFolks()\n",
    "scsa_name = \"InsertColors\"\n",
    "\n",
    "mastermind = Mastermind(board_length, colors)\n",
    "\n",
    "code = \"ADCB\"  # User chosen secret code\n",
    "# code = scsa.generate_code(board_length, colors, num_codes = 1)[0] #Extracted generated code\n",
    "\n",
    "round = Round(board_length, colors, code, scsa_name)\n",
    "\n",
    "result, guesses = round.play_round(player)\n",
    "\n",
    "print(\"Result:\", result, \"Guesses:\", guesses)"
   ]
  },
  {
   "cell_type": "markdown",
   "metadata": {},
   "source": [
    "## Making a Single Guess"
   ]
  },
  {
   "cell_type": "code",
   "execution_count": null,
   "metadata": {},
   "outputs": [],
   "source": [
    "board_length = 4\n",
    "num_colors = 6\n",
    "colors = [chr(i) for i in range(65, 91)][\n",
    "    :num_colors\n",
    "]  # Retrieves first num_colors from list of all colors\n",
    "player = RandomFolks()\n",
    "scsa = \"InsertColors\"\n",
    "\n",
    "response = (0, 0, 0)  # Default response since the player hasn't made a guess yet\n",
    "\n",
    "start = time.time()\n",
    "guess = player.make_guess(board_length, colors, scsa_name, response)\n",
    "end = time.time()\n",
    "\n",
    "duration = end - start\n",
    "\n",
    "print(\"Guess:\", guess, \"|\", \"Time:\", duration)"
   ]
  },
  {
   "cell_type": "markdown",
   "metadata": {},
   "source": [
    "## Sampling, Saving, and Reading Codes"
   ]
  },
  {
   "cell_type": "markdown",
   "metadata": {},
   "source": [
    "### Generating Samples"
   ]
  },
  {
   "cell_type": "code",
   "execution_count": null,
   "metadata": {},
   "outputs": [],
   "source": [
    "board_length = 4\n",
    "num_colors = 6\n",
    "colors = [chr(i) for i in range(65, 91)][\n",
    "    :num_colors\n",
    "]  # Retrieves first num_colors from list of all colors\n",
    "scsa = InsertColors()\n",
    "\n",
    "codes = scsa.generate_codes(board_length, colors, num_codes=10)\n",
    "\n",
    "print(codes)"
   ]
  },
  {
   "cell_type": "markdown",
   "metadata": {},
   "source": [
    "### Writing Samples to a File"
   ]
  },
  {
   "cell_type": "code",
   "execution_count": 7,
   "metadata": {},
   "outputs": [],
   "source": [
    "board_length = 4\n",
    "num_colors = 6\n",
    "colors = [chr(i) for i in range(65, 91)][\n",
    "    :num_colors\n",
    "]  # Retrieves first num_colors from list of all colors\n",
    "scsa = PreferFewer()\n",
    "\n",
    "# This function will generate codes and write them to a file for the SCSA.\n",
    "# You can find this file in the directory that this notebook is stored in.\n",
    "scsa.generate_and_write_to_file(board_length, colors, num_codes=200)"
   ]
  },
  {
   "cell_type": "markdown",
   "metadata": {},
   "source": [
    "### Reading from a File"
   ]
  },
  {
   "cell_type": "markdown",
   "metadata": {},
   "source": [
    "The simplest way to read codes from a file and try your player on them is using the practice tournament function for an instance of Mastermind. Let us use the code file from the previous example."
   ]
  },
  {
   "cell_type": "code",
   "execution_count": null,
   "metadata": {},
   "outputs": [],
   "source": [
    "board_length = 4  # Number of pegs\n",
    "num_colors = 6  # Number of colors\n",
    "colors = [chr(i) for i in range(65, 91)][\n",
    "    :num_colors\n",
    "]  # Retrieves first num_colors from list of all colors\n",
    "player = RandomFolks()\n",
    "scsa_name = \"PreferFewer\"\n",
    "code_file = \"PreferFewer_4_6.txt\"\n",
    "\n",
    "mastermind = Mastermind(board_length, colors)\n",
    "\n",
    "mastermind.practice_tournament(player, scsa_name, code_file)"
   ]
  },
  {
   "cell_type": "markdown",
   "metadata": {},
   "source": [
    "## Changing Time and Guess Limits"
   ]
  },
  {
   "cell_type": "markdown",
   "metadata": {},
   "source": [
    "You can change the guess limit and time limit for a round, and the time limit for a tournament."
   ]
  },
  {
   "cell_type": "code",
   "execution_count": null,
   "metadata": {},
   "outputs": [],
   "source": [
    "board_length = 4  # Number of pegs\n",
    "num_colors = 6  # Number of colors\n",
    "colors = [chr(i) for i in range(65, 91)][\n",
    "    :num_colors\n",
    "]  # Retrieves first num_colors from list of all colors\n",
    "player = RandomFolks()\n",
    "scsa = InsertColors()\n",
    "num_rounds = 100\n",
    "guess_cutoff = 250  # Default is 100 guesses\n",
    "round_time_cutoff = 10  # Default is 5 seconds\n",
    "tournament_time_cutoff = 1000  # Default is 300 seconds\n",
    "\n",
    "mastermind = Mastermind(\n",
    "    board_length, colors, guess_cutoff, round_time_cutoff, tournament_time_cutoff\n",
    ")\n",
    "\n",
    "mastermind.play_tournament(player, scsa, num_rounds)"
   ]
  }
 ],
 "metadata": {
  "kernelspec": {
   "display_name": "Python 3",
   "language": "python",
   "name": "python3"
  },
  "language_info": {
   "codemirror_mode": {
    "name": "ipython",
    "version": 3
   },
   "file_extension": ".py",
   "mimetype": "text/x-python",
   "name": "python",
   "nbconvert_exporter": "python",
   "pygments_lexer": "ipython3",
   "version": "3.11.5"
  }
 },
 "nbformat": 4,
 "nbformat_minor": 4
}
